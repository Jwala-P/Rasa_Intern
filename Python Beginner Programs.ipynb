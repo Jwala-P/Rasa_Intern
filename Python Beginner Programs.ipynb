{
 "cells": [
  {
   "cell_type": "code",
   "execution_count": null,
   "id": "69430b01-f385-4c7d-9ce5-e27a886e942c",
   "metadata": {},
   "outputs": [],
   "source": [
    "import numpy as np\n",
    "import pandas as pd"
   ]
  },
  {
   "cell_type": "code",
   "execution_count": 10,
   "id": "6d642aa5-14f9-44cb-9883-9120355e585c",
   "metadata": {},
   "outputs": [],
   "source": [
    "#Question 1\n",
    "def fibanocci(n):\n",
    "    x,y=0,1\n",
    "    for i in range(n):\n",
    "        print(x)\n",
    "        x,y=y,x+y"
   ]
  },
  {
   "cell_type": "code",
   "execution_count": 12,
   "id": "adeb4a5b-aafe-4a8b-a095-68ddedb34397",
   "metadata": {},
   "outputs": [
    {
     "name": "stdout",
     "output_type": "stream",
     "text": [
      "0\n",
      "1\n",
      "1\n",
      "2\n",
      "3\n",
      "5\n",
      "8\n",
      "13\n",
      "21\n",
      "34\n"
     ]
    }
   ],
   "source": [
    "fibanocci(10)"
   ]
  },
  {
   "cell_type": "code",
   "execution_count": 322,
   "id": "6e3625ca-c934-4832-ba6c-07cded6be6f1",
   "metadata": {},
   "outputs": [
    {
     "name": "stdin",
     "output_type": "stream",
     "text": [
      "Enter a string to Check for Palindorme(ness): 345\n"
     ]
    },
    {
     "data": {
      "text/plain": [
       "'543'"
      ]
     },
     "execution_count": 322,
     "metadata": {},
     "output_type": "execute_result"
    }
   ],
   "source": [
    "# Question 2\n",
    "Value=input(\"Enter a string to Check for Palindorme(ness):\").upper()\n",
    "reverse=Value[::-1]\n",
    "reverse.upper()"
   ]
  },
  {
   "cell_type": "code",
   "execution_count": 324,
   "id": "7140df16-e8a8-4805-b308-efd97a2e04d3",
   "metadata": {},
   "outputs": [
    {
     "name": "stdout",
     "output_type": "stream",
     "text": [
      "It's not a Palindrome.\n"
     ]
    }
   ],
   "source": [
    "if Value==reverse:\n",
    "    print(\"It's a Palindrome.\")\n",
    "else:\n",
    "    print(\"It's not a Palindrome.\")"
   ]
  },
  {
   "cell_type": "code",
   "execution_count": 48,
   "id": "060cdc8a-dbe8-40fa-80b0-e95ae6661bfa",
   "metadata": {},
   "outputs": [],
   "source": [
    "# Question 3\n",
    "# Factorial Iteration\n",
    "\n",
    "def factorial_iteration(n):\n",
    "    prod=1\n",
    "    for i in range(1,(n+1)):\n",
    "        prod=prod*i\n",
    "    return prod"
   ]
  },
  {
   "cell_type": "code",
   "execution_count": 52,
   "id": "a8dc6e65-1875-4f43-b2ba-7aea866c9500",
   "metadata": {},
   "outputs": [
    {
     "data": {
      "text/plain": [
       "5040"
      ]
     },
     "execution_count": 52,
     "metadata": {},
     "output_type": "execute_result"
    }
   ],
   "source": [
    "factorial_iteration(7)"
   ]
  },
  {
   "cell_type": "code",
   "execution_count": 86,
   "id": "019a15e6-563e-49ce-badf-7359fadf6d98",
   "metadata": {},
   "outputs": [],
   "source": [
    "# Factorial Recursion\n",
    "def factorial_recursive(n):\n",
    "    if n<=1:\n",
    "        return 1\n",
    "    elif n<0:\n",
    "        print(\"Unsupported Argument\")\n",
    "    else:\n",
    "        return (n*factorial_recursive(n-1))"
   ]
  },
  {
   "cell_type": "code",
   "execution_count": 94,
   "id": "03754593-a1d3-423d-8b81-5b1cb84d8f91",
   "metadata": {},
   "outputs": [
    {
     "data": {
      "text/plain": [
       "119622220865480194561963161495657715064383733760000000000"
      ]
     },
     "execution_count": 94,
     "metadata": {},
     "output_type": "execute_result"
    }
   ],
   "source": [
    "factorial_recursive(45)"
   ]
  },
  {
   "cell_type": "code",
   "execution_count": 124,
   "id": "960b7e27-5a7d-4dad-9dae-5d94d37db4ab",
   "metadata": {},
   "outputs": [
    {
     "name": "stdin",
     "output_type": "stream",
     "text": [
      "Enter a number: 8\n"
     ]
    },
    {
     "data": {
      "text/plain": [
       "8"
      ]
     },
     "execution_count": 124,
     "metadata": {},
     "output_type": "execute_result"
    }
   ],
   "source": [
    "# Question 4\n",
    "# Check for Prime(ness)\n",
    "Value=int(input(\"Enter a number:\"))\n",
    "Value"
   ]
  },
  {
   "cell_type": "code",
   "execution_count": 126,
   "id": "9b5bd070-d7dc-4b2f-abc4-b0e0d784fee5",
   "metadata": {},
   "outputs": [
    {
     "name": "stdout",
     "output_type": "stream",
     "text": [
      "It is not a Prime.\n"
     ]
    }
   ],
   "source": [
    "for i in range (2,Value):\n",
    "    if abs(Value)%i==0:\n",
    "        print(\"It is not a Prime.\")\n",
    "        break\n",
    "else:\n",
    "    print(\"It is a Prime.\")"
   ]
  },
  {
   "cell_type": "code",
   "execution_count": 196,
   "id": "e69fbbf9-c3c2-40f3-adfa-30ec44b10c56",
   "metadata": {},
   "outputs": [
    {
     "name": "stdout",
     "output_type": "stream",
     "text": [
      "2\n",
      "3\n",
      "5\n",
      "7\n",
      "11\n",
      "13\n",
      "17\n",
      "19\n",
      "23\n",
      "29\n",
      "31\n",
      "37\n",
      "41\n",
      "43\n",
      "47\n",
      "53\n",
      "59\n",
      "61\n",
      "67\n",
      "71\n",
      "73\n",
      "79\n",
      "83\n",
      "89\n",
      "97\n"
     ]
    }
   ],
   "source": [
    "# Printing Prime numbers from 1 to 100\n",
    "for i in range(2,101):\n",
    "    is_prime=True\n",
    "    for j in range(2,i):\n",
    "        if i==2:\n",
    "            is_prime=True\n",
    "        elif i%j==0:\n",
    "            is_prime=False\n",
    "            break\n",
    "        else:\n",
    "            is_prime=True\n",
    "    if is_prime==True:\n",
    "        print(i)"
   ]
  },
  {
   "cell_type": "code",
   "execution_count": 284,
   "id": "c7812d53-529c-4e8a-8e35-a9730d7dae2e",
   "metadata": {},
   "outputs": [],
   "source": [
    "# Question 5\n",
    "# Armstrong Number\n",
    "def Armstrong(Value):\n",
    "    n=len(str(Value))\n",
    "    a=0\n",
    "    sum=0\n",
    "    for i in range(0,n):\n",
    "        a=int((str(Value)[i]))**n\n",
    "        sum=sum+a\n",
    "    print(sum)\n",
    "    if sum==Value:\n",
    "        print(\"It's an Armstrong Number.\")\n",
    "    else:\n",
    "        print(\"It's not an Armstrong Number.\")"
   ]
  },
  {
   "cell_type": "code",
   "execution_count": 294,
   "id": "fd3e0213-b43c-4e5f-a120-b99534511eef",
   "metadata": {},
   "outputs": [
    {
     "name": "stdout",
     "output_type": "stream",
     "text": [
      "371\n",
      "It's an Armstrong Number.\n"
     ]
    }
   ],
   "source": [
    "Armstrong(371)"
   ]
  },
  {
   "cell_type": "code",
   "execution_count": 314,
   "id": "928b9970-ec4a-42b5-9979-fa13d3cb2043",
   "metadata": {},
   "outputs": [],
   "source": [
    "# Question 6\n",
    "def rev(number):\n",
    "    num=str(number)\n",
    "    reverse = num[::-1]\n",
    "    return int(reverse)\n",
    "def sum_digits(number):\n",
    "    n=len(str(number))\n",
    "    a=0\n",
    "    sum=0\n",
    "    for i in range(0,n):\n",
    "        a=int(str(number)[i])\n",
    "        sum=sum+a\n",
    "    return sum"
   ]
  },
  {
   "cell_type": "code",
   "execution_count": 304,
   "id": "83329373-2837-47e7-a275-4c074fff91fa",
   "metadata": {},
   "outputs": [
    {
     "data": {
      "text/plain": [
       "543"
      ]
     },
     "execution_count": 304,
     "metadata": {},
     "output_type": "execute_result"
    }
   ],
   "source": [
    "rev(345)"
   ]
  },
  {
   "cell_type": "code",
   "execution_count": 316,
   "id": "0af2e9a2-5963-4fe0-b519-d50032f86fbf",
   "metadata": {},
   "outputs": [
    {
     "data": {
      "text/plain": [
       "12"
      ]
     },
     "execution_count": 316,
     "metadata": {},
     "output_type": "execute_result"
    }
   ],
   "source": [
    "sum_digits(345)"
   ]
  },
  {
   "cell_type": "code",
   "execution_count": 1,
   "id": "3bea3b21-5656-4c98-9ea5-5f76c0d5dfeb",
   "metadata": {},
   "outputs": [],
   "source": [
    "# Question 7\n",
    "def second_largest_number(number_of_values):\n",
    "    numbers=[]\n",
    "    for i in range(number_of_values):\n",
    "        x=int(input(\"Enter the Values:\"))\n",
    "        numbers.append(x)\n",
    "        num=set(numbers)\n",
    "        number=list(num)\n",
    "    number.remove(max(number))\n",
    "    second_largest_number=max(number)\n",
    "    return second_largest_number"
   ]
  },
  {
   "cell_type": "code",
   "execution_count": 3,
   "id": "c5bef761-4595-4491-a59e-853b0272fc67",
   "metadata": {},
   "outputs": [
    {
     "name": "stdin",
     "output_type": "stream",
     "text": [
      "Enter the Values: 34\n",
      "Enter the Values: 34\n",
      "Enter the Values: 23\n",
      "Enter the Values: 12\n",
      "Enter the Values: 10\n"
     ]
    },
    {
     "data": {
      "text/plain": [
       "23"
      ]
     },
     "execution_count": 3,
     "metadata": {},
     "output_type": "execute_result"
    }
   ],
   "source": [
    "second_largest_number(5)"
   ]
  },
  {
   "cell_type": "code",
   "execution_count": 458,
   "id": "61a76d15-96df-4224-a9ee-a12087827e4c",
   "metadata": {},
   "outputs": [
    {
     "name": "stdin",
     "output_type": "stream",
     "text": [
      "Enter a Word: Hello\n"
     ]
    },
    {
     "name": "stdout",
     "output_type": "stream",
     "text": [
      "Number of vowels is 2.000000 and Number of Consonants is 3.000000\n"
     ]
    }
   ],
   "source": [
    "# Question 8\n",
    "Word=input(\"Enter a Word:\").upper()\n",
    "n=len(Word)\n",
    "vowel=0\n",
    "consonants=0\n",
    "for i in range(n):\n",
    "    if Word[i]=='A'or Word[i]=='E'or Word[i]=='I'or Word[i]=='O'or Word[i]=='U' :\n",
    "        vowel=vowel+1\n",
    "    else:\n",
    "        consonants=consonants+1\n",
    "print(\"Number of vowels is %f and Number of Consonants is %f\" %(vowel,consonants))  "
   ]
  },
  {
   "cell_type": "code",
   "execution_count": 462,
   "id": "c5c85642-2ea9-41da-8b00-c23a3113364a",
   "metadata": {},
   "outputs": [
    {
     "name": "stdin",
     "output_type": "stream",
     "text": [
      "Enter the Range(N): 5\n",
      "Enter the Values: 2\n",
      "Enter the Values: 3\n",
      "Enter the Values: 4\n",
      "Enter the Values: 5\n"
     ]
    }
   ],
   "source": [
    "# Question 9\n",
    "n=int(input(\"Enter the Range(N):\"))\n",
    "num=[]\n",
    "for i in range(n-1):\n",
    "    x=int(input(\"Enter the Values:\"))\n",
    "    num.append(x)"
   ]
  },
  {
   "cell_type": "code",
   "execution_count": 472,
   "id": "c3cc3758-991a-48ba-afde-ca84c46e130e",
   "metadata": {},
   "outputs": [
    {
     "name": "stdout",
     "output_type": "stream",
     "text": [
      "The missing number is 1.000000.\n"
     ]
    }
   ],
   "source": [
    "actual_sum=0\n",
    "expected_sum=n*(n+1)/2\n",
    "for i in num:\n",
    "    actual_sum+=i\n",
    "missing_number=expected_sum-actual_sum\n",
    "print(\"The missing number is %f.\" %(missing_number))"
   ]
  },
  {
   "cell_type": "code",
   "execution_count": 7,
   "id": "e3e2fed3-509d-4abe-97ec-9663af1f65a1",
   "metadata": {},
   "outputs": [
    {
     "name": "stdin",
     "output_type": "stream",
     "text": [
      "Enter the word1: owaa\n",
      "Enter the word2: owab\n"
     ]
    }
   ],
   "source": [
    "# Question 10\n",
    "Word1=input(\"Enter the word1:\").upper()\n",
    "Word2=input(\"Enter the word2:\").upper()"
   ]
  },
  {
   "cell_type": "code",
   "execution_count": 11,
   "id": "ec8c01e9-4b34-4608-9428-da34138f2a30",
   "metadata": {},
   "outputs": [
    {
     "name": "stdout",
     "output_type": "stream",
     "text": [
      "The two words are not Anagrams of each other.\n"
     ]
    }
   ],
   "source": [
    "if len(Word1)==len(Word2):\n",
    "    is_anagram=True\n",
    "    for i in range(len(Word1)):\n",
    "        if Word1[i] in Word2 and Word2[i] in Word1:\n",
    "            is_anagram=True\n",
    "        else:\n",
    "            is_anagram=False\n",
    "            break\n",
    "else:\n",
    "    is_anagram=False\n",
    "    print(\"The two words are not Anagrams of each other.\")\n",
    "if is_anagram==True:\n",
    "    print(\"The two words are Anagrams of each other.\")\n",
    "else:\n",
    "    print(\"The two words are not Anagrams of each other.\")"
   ]
  },
  {
   "cell_type": "code",
   "execution_count": 35,
   "id": "c5fbab12-f1ad-49c0-9fa8-32c9af8b5b3f",
   "metadata": {},
   "outputs": [],
   "source": []
  }
 ],
 "metadata": {
  "kernelspec": {
   "display_name": "Python [conda env:base] *",
   "language": "python",
   "name": "conda-base-py"
  },
  "language_info": {
   "codemirror_mode": {
    "name": "ipython",
    "version": 3
   },
   "file_extension": ".py",
   "mimetype": "text/x-python",
   "name": "python",
   "nbconvert_exporter": "python",
   "pygments_lexer": "ipython3",
   "version": "3.12.7"
  }
 },
 "nbformat": 4,
 "nbformat_minor": 5
}
