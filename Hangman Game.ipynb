{
 "cells": [
  {
   "cell_type": "code",
   "execution_count": 103,
   "id": "9ee6ae19-73d9-484e-8808-7b2c48514451",
   "metadata": {},
   "outputs": [],
   "source": [
    "import random"
   ]
  },
  {
   "cell_type": "code",
   "execution_count": 127,
   "id": "c4b46531-7685-4f78-a37e-f48ad64888d4",
   "metadata": {},
   "outputs": [],
   "source": [
    "def choose_word(word_list):\n",
    "    return random.choice(word_list).upper()"
   ]
  },
  {
   "cell_type": "code",
   "execution_count": 109,
   "id": "84632bf4-eef8-42e2-a9ce-35f5806b2e09",
   "metadata": {},
   "outputs": [],
   "source": [
    "def display_board(missed_letters, correct_letters, secret_word):\n",
    "    print(\"\\nMissed Letters:\",\" \".join(missed_letters))\n",
    "    display_word=\"\"\n",
    "    for i in secret_word:\n",
    "        if i in correct_letters:\n",
    "            display_word+=i+\" \"\n",
    "        else:\n",
    "            display_word+=\"_ \"\n",
    "    print(\"Word: \" +display_word.strip())"
   ]
  },
  {
   "cell_type": "code",
   "execution_count": 160,
   "id": "64c05cea-79ef-4001-a930-c2a8153a2941",
   "metadata": {},
   "outputs": [],
   "source": [
    "def get_guess(already_guessed):\n",
    "   while True:\n",
    "       guess=input(\"\\nGuess a letter:\").upper()\n",
    "       if len(guess)!=1:\n",
    "           print(\"\\nPlease give a single letter as an input.\")\n",
    "       elif not guess.isalpha():\n",
    "           print(\"Give a valid input.\")\n",
    "       elif guess in already_guessed:\n",
    "           print(\"\\nYou have already guessed this letter. Try a new letter.\")\n",
    "       else:\n",
    "           return guess"
   ]
  },
  {
   "cell_type": "code",
   "execution_count": 162,
   "id": "868f7df5-1c6d-4720-ba1e-1dfe7325d13a",
   "metadata": {},
   "outputs": [],
   "source": [
    "def check_game_over(correct_letters, missed_letters, secret_word):\n",
    "    if all(i in correct_letters for i in secret_word):\n",
    "        print(\"\\nYou've Won!!!\")\n",
    "        print(\"\\nThe correct word was: %s\" %(secret_word))\n",
    "        return True\n",
    "    elif len(missed_letters)>5:\n",
    "        print(\"\\nYou Lose\")\n",
    "        print(\"\\nThe correct word was: %s\" %(secret_word))\n",
    "        return True\n",
    "    else:\n",
    "        return False"
   ]
  },
  {
   "cell_type": "code",
   "execution_count": 164,
   "id": "f588d78e-d815-41c9-9ec0-9601b5898f4f",
   "metadata": {},
   "outputs": [],
   "source": [
    "def play_again():\n",
    "    answer=input(\"\\nDo you want to play again ? (Yes or No): \").upper().startswith(\"Y\")\n",
    "    return answer"
   ]
  },
  {
   "cell_type": "code",
   "execution_count": 166,
   "id": "52cfea0d-800e-4353-b745-9f4d0beac29f",
   "metadata": {},
   "outputs": [],
   "source": [
    "def play():\n",
    "    word_list=[\"python\", \"jupyter\" , \"programming\", \"function\",\"Analytics\",\"Explore\",\"Generative\",\"Infinite\",\"Network\",\"Foundation\"]\n",
    "    secret_word=choose_word(word_list)\n",
    "    missed_letters=[]\n",
    "    correct_letters=[]\n",
    "\n",
    "    while True:\n",
    "        display_board(missed_letters,correct_letters,secret_word)\n",
    "        guess=get_guess(missed_letters+correct_letters)\n",
    "\n",
    "        if guess in secret_word:\n",
    "            if guess not in correct_letters:\n",
    "                correct_letters.append(guess)\n",
    "        else:\n",
    "            if guess not in missed_letters:\n",
    "                missed_letters.append(guess)\n",
    "\n",
    "        game_over=check_game_over(correct_letters, missed_letters, secret_word)\n",
    "\n",
    "        if game_over==True:\n",
    "            if play_again()==True:\n",
    "                missed_letters=[]\n",
    "                correct_letters=[]\n",
    "                secret_word=choose_word(word_list)\n",
    "            else:\n",
    "                break"
   ]
  },
  {
   "cell_type": "code",
   "execution_count": 168,
   "id": "4373bc79-1073-49dc-b522-dd505cfcbafb",
   "metadata": {},
   "outputs": [
    {
     "name": "stdout",
     "output_type": "stream",
     "text": [
      "\n",
      "Missed Letters: \n",
      "Word: _ _ _ _ _ _\n"
     ]
    },
    {
     "name": "stdin",
     "output_type": "stream",
     "text": [
      "\n",
      "Guess a letter: 1\n"
     ]
    },
    {
     "name": "stdout",
     "output_type": "stream",
     "text": [
      "Give a valid input.\n"
     ]
    },
    {
     "name": "stdin",
     "output_type": "stream",
     "text": [
      "\n",
      "Guess a letter: p\n"
     ]
    },
    {
     "name": "stdout",
     "output_type": "stream",
     "text": [
      "\n",
      "Missed Letters: \n",
      "Word: P _ _ _ _ _\n"
     ]
    },
    {
     "name": "stdin",
     "output_type": "stream",
     "text": [
      "\n",
      "Guess a letter: y\n"
     ]
    },
    {
     "name": "stdout",
     "output_type": "stream",
     "text": [
      "\n",
      "Missed Letters: \n",
      "Word: P Y _ _ _ _\n"
     ]
    },
    {
     "name": "stdin",
     "output_type": "stream",
     "text": [
      "\n",
      "Guess a letter: t\n"
     ]
    },
    {
     "name": "stdout",
     "output_type": "stream",
     "text": [
      "\n",
      "Missed Letters: \n",
      "Word: P Y T _ _ _\n"
     ]
    },
    {
     "name": "stdin",
     "output_type": "stream",
     "text": [
      "\n",
      "Guess a letter: h\n"
     ]
    },
    {
     "name": "stdout",
     "output_type": "stream",
     "text": [
      "\n",
      "Missed Letters: \n",
      "Word: P Y T H _ _\n"
     ]
    },
    {
     "name": "stdin",
     "output_type": "stream",
     "text": [
      "\n",
      "Guess a letter: o\n"
     ]
    },
    {
     "name": "stdout",
     "output_type": "stream",
     "text": [
      "\n",
      "Missed Letters: \n",
      "Word: P Y T H O _\n"
     ]
    },
    {
     "name": "stdin",
     "output_type": "stream",
     "text": [
      "\n",
      "Guess a letter: n\n"
     ]
    },
    {
     "name": "stdout",
     "output_type": "stream",
     "text": [
      "\n",
      "You've Won!!!\n",
      "\n",
      "The correct word was: PYTHON\n"
     ]
    },
    {
     "name": "stdin",
     "output_type": "stream",
     "text": [
      "\n",
      "Do you want to play again ? (Yes or No):  yes\n"
     ]
    },
    {
     "name": "stdout",
     "output_type": "stream",
     "text": [
      "\n",
      "Missed Letters: \n",
      "Word: _ _ _ _ _ _ _\n"
     ]
    },
    {
     "name": "stdin",
     "output_type": "stream",
     "text": [
      "\n",
      "Guess a letter: l\n"
     ]
    },
    {
     "name": "stdout",
     "output_type": "stream",
     "text": [
      "\n",
      "Missed Letters: L\n",
      "Word: _ _ _ _ _ _ _\n"
     ]
    },
    {
     "name": "stdin",
     "output_type": "stream",
     "text": [
      "\n",
      "Guess a letter: p\n"
     ]
    },
    {
     "name": "stdout",
     "output_type": "stream",
     "text": [
      "\n",
      "Missed Letters: L P\n",
      "Word: _ _ _ _ _ _ _\n"
     ]
    },
    {
     "name": "stdin",
     "output_type": "stream",
     "text": [
      "\n",
      "Guess a letter: j\n"
     ]
    },
    {
     "name": "stdout",
     "output_type": "stream",
     "text": [
      "\n",
      "Missed Letters: L P J\n",
      "Word: _ _ _ _ _ _ _\n"
     ]
    },
    {
     "name": "stdin",
     "output_type": "stream",
     "text": [
      "\n",
      "Guess a letter: e\n"
     ]
    },
    {
     "name": "stdout",
     "output_type": "stream",
     "text": [
      "\n",
      "Missed Letters: L P J\n",
      "Word: _ E _ _ _ _ _\n"
     ]
    },
    {
     "name": "stdin",
     "output_type": "stream",
     "text": [
      "\n",
      "Guess a letter: t\n"
     ]
    },
    {
     "name": "stdout",
     "output_type": "stream",
     "text": [
      "\n",
      "Missed Letters: L P J\n",
      "Word: _ E T _ _ _ _\n"
     ]
    },
    {
     "name": "stdin",
     "output_type": "stream",
     "text": [
      "\n",
      "Guess a letter: g\n"
     ]
    },
    {
     "name": "stdout",
     "output_type": "stream",
     "text": [
      "\n",
      "Missed Letters: L P J G\n",
      "Word: _ E T _ _ _ _\n"
     ]
    },
    {
     "name": "stdin",
     "output_type": "stream",
     "text": [
      "\n",
      "Guess a letter: w\n"
     ]
    },
    {
     "name": "stdout",
     "output_type": "stream",
     "text": [
      "\n",
      "Missed Letters: L P J G\n",
      "Word: _ E T W _ _ _\n"
     ]
    },
    {
     "name": "stdin",
     "output_type": "stream",
     "text": [
      "\n",
      "Guess a letter: r\n"
     ]
    },
    {
     "name": "stdout",
     "output_type": "stream",
     "text": [
      "\n",
      "Missed Letters: L P J G\n",
      "Word: _ E T W _ R _\n"
     ]
    },
    {
     "name": "stdin",
     "output_type": "stream",
     "text": [
      "\n",
      "Guess a letter: i\n"
     ]
    },
    {
     "name": "stdout",
     "output_type": "stream",
     "text": [
      "\n",
      "Missed Letters: L P J G I\n",
      "Word: _ E T W _ R _\n"
     ]
    },
    {
     "name": "stdin",
     "output_type": "stream",
     "text": [
      "\n",
      "Guess a letter: d\n"
     ]
    },
    {
     "name": "stdout",
     "output_type": "stream",
     "text": [
      "\n",
      "You Lose\n",
      "\n",
      "The correct word was: NETWORK\n"
     ]
    },
    {
     "name": "stdin",
     "output_type": "stream",
     "text": [
      "\n",
      "Do you want to play again ? (Yes or No):  no\n"
     ]
    }
   ],
   "source": [
    "play()"
   ]
  },
  {
   "cell_type": "code",
   "execution_count": null,
   "id": "9b74e6a8-f544-4018-9cb3-c0f07afbd31c",
   "metadata": {},
   "outputs": [],
   "source": []
  }
 ],
 "metadata": {
  "kernelspec": {
   "display_name": "Python [conda env:base] *",
   "language": "python",
   "name": "conda-base-py"
  },
  "language_info": {
   "codemirror_mode": {
    "name": "ipython",
    "version": 3
   },
   "file_extension": ".py",
   "mimetype": "text/x-python",
   "name": "python",
   "nbconvert_exporter": "python",
   "pygments_lexer": "ipython3",
   "version": "3.12.7"
  }
 },
 "nbformat": 4,
 "nbformat_minor": 5
}
