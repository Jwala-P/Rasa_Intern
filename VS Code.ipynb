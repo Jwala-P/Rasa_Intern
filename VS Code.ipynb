{
 "cells": [
  {
   "cell_type": "code",
   "execution_count": null,
   "id": "a41de45e",
   "metadata": {},
   "outputs": [],
   "source": [
    "# QuickSort\n",
    "\n",
    "def quicksort(arr):\n",
    "    if len(arr) <= 1:\n",
    "        return arr\n",
    "    pivot = arr[0]\n",
    "    left = [x for x in arr[1:] if x <= pivot]\n",
    "    right = [x for x in arr[1:] if x > pivot]\n",
    "    return quicksort(left) + [pivot] + quicksort(right)\n",
    "\n",
    "arr = [33, 10, 59, 27, 18]\n",
    "sorted_arr = quicksort(arr)\n",
    "print(\"Sorted array:\", sorted_arr)\n"
   ]
  },
  {
   "cell_type": "code",
   "execution_count": null,
   "id": "c35ea3d3",
   "metadata": {},
   "outputs": [],
   "source": [
    "# Class\n",
    "class Car:\n",
    "    def __init__(self, brand, model, year):\n",
    "        self.brand = brand\n",
    "        self.model = model\n",
    "        self.year = year\n",
    "\n",
    "    def display_info(self):\n",
    "        print(f\"{self.year} {self.brand} {self.model}\")\n",
    "\n",
    "# Example usage\n",
    "my_car = Car(\"Toyota\", \"Corolla\", 2020)\n",
    "my_car.display_info()\n"
   ]
  }
 ],
 "metadata": {
  "language_info": {
   "name": "python"
  }
 },
 "nbformat": 4,
 "nbformat_minor": 5
}
